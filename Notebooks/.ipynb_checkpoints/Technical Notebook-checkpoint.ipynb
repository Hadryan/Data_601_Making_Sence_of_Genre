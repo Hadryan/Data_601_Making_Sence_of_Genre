{
 "cells": [
  {
   "cell_type": "code",
   "execution_count": 1,
   "metadata": {},
   "outputs": [],
   "source": [
    "import pandas as pd\n",
    "import numpy as np\n",
    "import matplotlib.pyplot as plt\n",
    "%matplotlib inline \n",
    "import seaborn as sns\n",
    "import pickle"
   ]
  },
  {
   "cell_type": "markdown",
   "metadata": {},
   "source": [
    "## 1) Abstract "
   ]
  },
  {
   "cell_type": "markdown",
   "metadata": {},
   "source": [
    "## 2) Introduction "
   ]
  },
  {
   "cell_type": "markdown",
   "metadata": {},
   "source": [
    "## 3) Research Questions "
   ]
  },
  {
   "cell_type": "markdown",
   "metadata": {},
   "source": [
    "## 4) EDA \n",
    "\n",
    "#### For more detailed EDA please read (insert EDA notebook link here)"
   ]
  },
  {
   "cell_type": "markdown",
   "metadata": {},
   "source": [
    "#### Loading the Data Frame "
   ]
  },
  {
   "cell_type": "code",
   "execution_count": 2,
   "metadata": {},
   "outputs": [],
   "source": [
    "#Read in Data \n",
    "spotify_df = pd.read_pickle('../Data/spotify_df.pkl')"
   ]
  },
  {
   "cell_type": "code",
   "execution_count": 3,
   "metadata": {},
   "outputs": [
    {
     "name": "stdout",
     "output_type": "stream",
     "text": [
      "<class 'pandas.core.frame.DataFrame'>\n",
      "MultiIndex: 10901 entries, ('The Sound of Pop', 0) to ('The Sound of Jazz', 397)\n",
      "Data columns (total 21 columns):\n",
      " #   Column            Non-Null Count  Dtype  \n",
      "---  ------            --------------  -----  \n",
      " 0   track_id          10901 non-null  object \n",
      " 1   artist            10901 non-null  object \n",
      " 2   artist_id         10901 non-null  object \n",
      " 3   album             10901 non-null  object \n",
      " 4   trackName         10901 non-null  object \n",
      " 5   acousticness      10901 non-null  float64\n",
      " 6   danceability      10901 non-null  float64\n",
      " 7   duration_ms       10901 non-null  int64  \n",
      " 8   energy            10901 non-null  float64\n",
      " 9   instrumentalness  10901 non-null  float64\n",
      " 10  key               10901 non-null  int64  \n",
      " 11  liveness          10901 non-null  float64\n",
      " 12  loudness          10901 non-null  float64\n",
      " 13  mode              10901 non-null  int64  \n",
      " 14  speechiness       10901 non-null  float64\n",
      " 15  tempo             10901 non-null  float64\n",
      " 16  time_signature    10901 non-null  int64  \n",
      " 17  valence           10901 non-null  float64\n",
      " 18  genre             10901 non-null  object \n",
      " 19  popularity        10901 non-null  float64\n",
      " 20  category_id       10901 non-null  object \n",
      "dtypes: float64(10), int64(4), object(7)\n",
      "memory usage: 1.8+ MB\n"
     ]
    }
   ],
   "source": [
    "spotify_df.info()"
   ]
  },
  {
   "cell_type": "markdown",
   "metadata": {},
   "source": [
    "  - We have a data set of 10901 tracks and 21 different varaibles.\n",
    "  - The data set contains no missing or Null values. \n",
    "  "
   ]
  },
  {
   "cell_type": "markdown",
   "metadata": {},
   "source": [
    "## 5) Data Prep & Feature Engineering "
   ]
  },
  {
   "cell_type": "markdown",
   "metadata": {},
   "source": [
    "## 6) Modeling "
   ]
  },
  {
   "cell_type": "markdown",
   "metadata": {},
   "source": [
    "## 7) Model Results "
   ]
  },
  {
   "cell_type": "markdown",
   "metadata": {},
   "source": [
    "## 8) Conclusion "
   ]
  },
  {
   "cell_type": "markdown",
   "metadata": {},
   "source": [
    "## 9) Limitations and Future Work"
   ]
  },
  {
   "cell_type": "markdown",
   "metadata": {},
   "source": [
    "## 10) References "
   ]
  },
  {
   "cell_type": "code",
   "execution_count": null,
   "metadata": {},
   "outputs": [],
   "source": []
  }
 ],
 "metadata": {
  "kernelspec": {
   "display_name": "Python 3",
   "language": "python",
   "name": "python3"
  },
  "language_info": {
   "codemirror_mode": {
    "name": "ipython",
    "version": 3
   },
   "file_extension": ".py",
   "mimetype": "text/x-python",
   "name": "python",
   "nbconvert_exporter": "python",
   "pygments_lexer": "ipython3",
   "version": "3.8.3"
  }
 },
 "nbformat": 4,
 "nbformat_minor": 4
}
