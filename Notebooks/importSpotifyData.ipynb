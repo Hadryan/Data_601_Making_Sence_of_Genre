{
 "cells": [
  {
   "cell_type": "markdown",
   "metadata": {},
   "source": [
    "# importSpotifyData\n",
    "\n",
    " - This notebook is built upon the an eaieler project where I pulled simmilar data from the Spotify Web API: [getSpotifyData.ipynb](https://github.com/sreidy/DATA601_HW2/blob/main/getSpotifyData.ipynb)\n",
    "\n",
    "## Table Of Contents "
   ]
  },
  {
   "cell_type": "markdown",
   "metadata": {},
   "source": [
    "### Importing Packages"
   ]
  },
  {
   "cell_type": "code",
   "execution_count": 1,
   "metadata": {},
   "outputs": [],
   "source": [
    "import spotipy\n",
    "import pandas as pd\n",
    "from spotipy.oauth2 import SpotifyClientCredentials\n",
    "\n",
    "\n",
    "import getpass\n",
    "import pickle"
   ]
  },
  {
   "cell_type": "markdown",
   "metadata": {},
   "source": [
    "### Seting up Spotify Web API Credentials\n",
    "\n",
    " - We will need the following:\n",
    "     + [A spotify Account](https://developer.spotify.com/)\n",
    "     + Create an App in the [Spotify Developer Dashboard](https://developer.spotify.com/dashboard/applications) \n",
    "     + Within the newly create Spotify App\n",
    "         + Spotify Client ID \n",
    "         + Spotify Client Secret "
   ]
  },
  {
   "cell_type": "code",
   "execution_count": null,
   "metadata": {},
   "outputs": [],
   "source": [
    "CLIENT_ID = getpass.getpass(prompt = \"your-spotify-client-id\")"
   ]
  },
  {
   "cell_type": "code",
   "execution_count": null,
   "metadata": {},
   "outputs": [],
   "source": [
    "CLIENT_SECRET = getpass.getpass(prompt = \"your-spotify-client-secret\")"
   ]
  },
  {
   "cell_type": "markdown",
   "metadata": {},
   "source": [
    "##### Get Oauth Token"
   ]
  },
  {
   "cell_type": "code",
   "execution_count": null,
   "metadata": {},
   "outputs": [],
   "source": [
    "import warnings;\n",
    "warnings.filterwarnings('ignore');\n",
    "\n",
    "token = SpotifyClientCredentials(client_id=CLIENT_ID, client_secret=CLIENT_SECRET)\n",
    "cache_token = token.get_access_token()\n",
    "#save token as sp, will be used in future API calls\n",
    "sp = spotipy.Spotify(cache_token)"
   ]
  }
 ],
 "metadata": {
  "kernelspec": {
   "display_name": "Python 3",
   "language": "python",
   "name": "python3"
  },
  "language_info": {
   "codemirror_mode": {
    "name": "ipython",
    "version": 3
   },
   "file_extension": ".py",
   "mimetype": "text/x-python",
   "name": "python",
   "nbconvert_exporter": "python",
   "pygments_lexer": "ipython3",
   "version": "3.8.3"
  }
 },
 "nbformat": 4,
 "nbformat_minor": 4
}
