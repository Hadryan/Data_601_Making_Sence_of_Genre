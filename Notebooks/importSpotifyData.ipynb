{
 "cells": [
  {
   "cell_type": "markdown",
   "metadata": {},
   "source": [
    "# importSpotifyData\n",
    "\n",
    " - This notebook is built upon the an eaieler project where I pulled simmilar data from the Spotify Web API: [getSpotifyData.ipynb](https://github.com/sreidy/DATA601_HW2/blob/main/getSpotifyData.ipynb)\n",
    "\n",
    "## Table Of Contents "
   ]
  },
  {
   "cell_type": "markdown",
   "metadata": {},
   "source": [
    "### Importing Packages"
   ]
  },
  {
   "cell_type": "code",
   "execution_count": 1,
   "metadata": {},
   "outputs": [],
   "source": [
    "import spotipy\n",
    "import pandas as pd\n",
    "from spotipy.oauth2 import SpotifyClientCredentials\n",
    "\n",
    "\n",
    "import getpass\n",
    "import pickle"
   ]
  },
  {
   "cell_type": "markdown",
   "metadata": {},
   "source": [
    "### Seting up Spotify Web API Credentials\n",
    "\n",
    " - We will need the following:\n",
    "     + [A spotify Account](https://developer.spotify.com/)\n",
    "     + Create an App in the [Spotify Developer Dashboard](https://developer.spotify.com/dashboard/applications) \n",
    "     + Within the newly create Spotify App\n",
    "         + Spotify Client ID \n",
    "         + Spotify Client Secret "
   ]
  },
  {
   "cell_type": "code",
   "execution_count": 2,
   "metadata": {},
   "outputs": [
    {
     "name": "stdout",
     "output_type": "stream",
     "text": [
      "your-spotify-client-id········\n"
     ]
    }
   ],
   "source": [
    "CLIENT_ID = getpass.getpass(prompt = \"your-spotify-client-id\")"
   ]
  },
  {
   "cell_type": "code",
   "execution_count": 3,
   "metadata": {},
   "outputs": [
    {
     "name": "stdout",
     "output_type": "stream",
     "text": [
      "your-spotify-client-secret········\n"
     ]
    }
   ],
   "source": [
    "CLIENT_SECRET = getpass.getpass(prompt = \"your-spotify-client-secret\")"
   ]
  },
  {
   "cell_type": "markdown",
   "metadata": {},
   "source": [
    "##### Get Oauth Token"
   ]
  },
  {
   "cell_type": "code",
   "execution_count": 4,
   "metadata": {},
   "outputs": [],
   "source": [
    "import warnings;\n",
    "warnings.filterwarnings('ignore');\n",
    "\n",
    "token = SpotifyClientCredentials(client_id=CLIENT_ID, client_secret=CLIENT_SECRET)\n",
    "cache_token = token.get_access_token()\n",
    "#save token as sp, will be used in future API calls\n",
    "sp = spotipy.Spotify(cache_token)"
   ]
  },
  {
   "cell_type": "markdown",
   "metadata": {},
   "source": [
    "##### Test Spotify Web API Token"
   ]
  },
  {
   "cell_type": "code",
   "execution_count": 5,
   "metadata": {},
   "outputs": [
    {
     "name": "stdout",
     "output_type": "stream",
     "text": [
      "Name of Artist to Search: My Bloody Valentine\n"
     ]
    }
   ],
   "source": [
    "# Enter artist name \n",
    "artist_name = input(\"Name of Artist to Search: \")"
   ]
  },
  {
   "cell_type": "code",
   "execution_count": 6,
   "metadata": {},
   "outputs": [
    {
     "name": "stdout",
     "output_type": "stream",
     "text": [
      "  0 My Bloody Valentine\n",
      "  1 When You Sleep\n",
      "  2 Only Shallow\n",
      "  3 Sometimes\n",
      "  4 Soon\n",
      "  5 To Here Knows When\n",
      "  6 Loomer\n",
      "  7 I Only Said\n",
      "  8 Only Shallow\n",
      "  9 Come in Alone\n",
      "  10 Touched\n",
      "  11 What You Want\n",
      "  12 Blown a Wish\n",
      "  13 Lose My Breath\n",
      "  14 My Bloody Valentine\n",
      "  15 Off Your Face\n",
      "  16 Soft as Snow (But Warm Inside)\n",
      "  17 Cupid Come\n",
      "  18 Honey Power (EP Version)\n",
      "  19 (When You Wake) You're Still in a Dream\n"
     ]
    }
   ],
   "source": [
    "#Search for an Artists and print out 20 popular tracks \n",
    "results = sp.search(q=artist_name, limit=20)\n",
    "for i, t in enumerate(results['tracks']['items']):\n",
    "    print(' ', i, t['name'])"
   ]
  },
  {
   "cell_type": "code",
   "execution_count": null,
   "metadata": {},
   "outputs": [],
   "source": []
  }
 ],
 "metadata": {
  "kernelspec": {
   "display_name": "Python 3",
   "language": "python",
   "name": "python3"
  },
  "language_info": {
   "codemirror_mode": {
    "name": "ipython",
    "version": 3
   },
   "file_extension": ".py",
   "mimetype": "text/x-python",
   "name": "python",
   "nbconvert_exporter": "python",
   "pygments_lexer": "ipython3",
   "version": "3.8.3"
  }
 },
 "nbformat": 4,
 "nbformat_minor": 4
}
